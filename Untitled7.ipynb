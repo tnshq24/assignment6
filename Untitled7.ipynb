{
 "cells": [
  {
   "cell_type": "code",
   "execution_count": 26,
   "id": "7031425c-edb2-484b-829f-0e3ae8f42e43",
   "metadata": {},
   "outputs": [],
   "source": [
    "#Q1\n",
    "#While executing a program when a condition comes where python stop executing, \n",
    "#is called as syntax error, whereas, in exceptional it disrupts the the normal flow of the program. \n",
    "#But both are runtime errors"
   ]
  },
  {
   "cell_type": "code",
   "execution_count": 3,
   "id": "ad4803dc-f743-4058-8797-01c68bd73f81",
   "metadata": {},
   "outputs": [
    {
     "ename": "ZeroDivisionError",
     "evalue": "division by zero",
     "output_type": "error",
     "traceback": [
      "\u001b[0;31m---------------------------------------------------------------------------\u001b[0m",
      "\u001b[0;31mZeroDivisionError\u001b[0m                         Traceback (most recent call last)",
      "Cell \u001b[0;32mIn[3], line 2\u001b[0m\n\u001b[1;32m      1\u001b[0m \u001b[38;5;66;03m#Q2\u001b[39;00m\n\u001b[0;32m----> 2\u001b[0m \u001b[38;5;241;43m10\u001b[39;49m\u001b[38;5;241;43m/\u001b[39;49m\u001b[38;5;241;43m0\u001b[39;49m\n",
      "\u001b[0;31mZeroDivisionError\u001b[0m: division by zero"
     ]
    }
   ],
   "source": [
    "#Q2\n",
    "10/0"
   ]
  },
  {
   "cell_type": "code",
   "execution_count": 8,
   "id": "37eb259c-6a18-410d-a173-9a98e466fcd2",
   "metadata": {},
   "outputs": [
    {
     "name": "stdout",
     "output_type": "stream",
     "text": [
      "division by zero\n"
     ]
    }
   ],
   "source": [
    "# division by 10 is not possible in maths, so it throws an exception,\n",
    "# to catch exceptions we use exception handling like as follows:\n",
    "try:\n",
    "    10/0\n",
    "except ZeroDivisionError as e:\n",
    "    print(e)"
   ]
  },
  {
   "cell_type": "code",
   "execution_count": 12,
   "id": "e779bc33-57d9-47f1-ba35-581ed60d9520",
   "metadata": {},
   "outputs": [
    {
     "name": "stdout",
     "output_type": "stream",
     "text": [
      "[Errno 2] No such file or directory: 'test1.txt'\n"
     ]
    }
   ],
   "source": [
    "#Q3\n",
    "# There are 4 statements used to handle exceptions:-\n",
    "# try block\n",
    "# else block\n",
    "# finally block\n",
    "# except block\n",
    "\n",
    "try:\n",
    "    f = open(\"test1.txt\",'r')\n",
    "except Exception as e:\n",
    "    print(e)"
   ]
  },
  {
   "cell_type": "code",
   "execution_count": 13,
   "id": "ae6d2d30-fcb0-4b81-8a40-c16b28079a15",
   "metadata": {},
   "outputs": [
    {
     "name": "stdout",
     "output_type": "stream",
     "text": [
      "[Errno 2] No such file or directory: 'test1.txt'\n"
     ]
    }
   ],
   "source": [
    "try:\n",
    "    f = open(\"test1.txt\",'r')\n",
    "except Exception as e:\n",
    "    print(e)\n",
    "else:\n",
    "    print(\"File found\")"
   ]
  },
  {
   "cell_type": "code",
   "execution_count": 15,
   "id": "5972fbf7-6456-4650-8ef0-340c9185412e",
   "metadata": {},
   "outputs": [
    {
     "name": "stdout",
     "output_type": "stream",
     "text": [
      "[Errno 2] No such file or directory: 'test1.txt'\n",
      "Execution done\n"
     ]
    }
   ],
   "source": [
    "try:\n",
    "    f = open(\"test1.txt\",'r')\n",
    "except Exception as e:\n",
    "    print(e)\n",
    "else:\n",
    "    print(\"File found\")\n",
    "finally:\n",
    "    print(\"Execution done\")"
   ]
  },
  {
   "cell_type": "code",
   "execution_count": 16,
   "id": "0e8f1130-35d0-4442-82d0-1a5259d5e000",
   "metadata": {},
   "outputs": [
    {
     "name": "stdout",
     "output_type": "stream",
     "text": [
      "[Errno 2] No such file or directory: 'test1.txt'\n"
     ]
    }
   ],
   "source": [
    "#Q4\n",
    "try:\n",
    "    f = open(\"test1.txt\",'r')\n",
    "except Exception as e:\n",
    "    print(e)"
   ]
  },
  {
   "cell_type": "code",
   "execution_count": 17,
   "id": "21c83930-9f06-427e-8716-c4a380f4c1de",
   "metadata": {},
   "outputs": [
    {
     "name": "stdout",
     "output_type": "stream",
     "text": [
      "[Errno 2] No such file or directory: 'test1.txt'\n"
     ]
    }
   ],
   "source": [
    "try:\n",
    "    f = open(\"test1.txt\",'r')\n",
    "except Exception as e:\n",
    "    print(e)\n",
    "else:\n",
    "    print(\"File found\")"
   ]
  },
  {
   "cell_type": "code",
   "execution_count": 8,
   "id": "d9fe9890-b7fc-4975-9212-caf0578a7224",
   "metadata": {},
   "outputs": [
    {
     "name": "stdout",
     "output_type": "stream",
     "text": [
      "File not found [Errno 2] No such file or directory: 'test1.text'\n"
     ]
    }
   ],
   "source": [
    "try:\n",
    "    f = open(\"test1.text\",'r')\n",
    "    raise Exception\n",
    "except Exception as e:\n",
    "    print(\"File not found\",e)\n"
   ]
  },
  {
   "cell_type": "code",
   "execution_count": 27,
   "id": "98ba7c83-0e23-40b0-b1cd-34124f68ff80",
   "metadata": {},
   "outputs": [
    {
     "name": "stdout",
     "output_type": "stream",
     "text": [
      "age cannot be negative\n"
     ]
    }
   ],
   "source": [
    "#Q5\n",
    "\n",
    "#Custom exceptions are used for raising customized errors byy using Exception superclass.\n",
    "#The need to use custom exceptions is to raise errors which are not defined in the Exception\n",
    "#superclass, and there are situations where we want to raise errors only for a specific task,\n",
    "#there we can define our own exception and use it.\n",
    "\n",
    "        \n",
    "def agecheck(age):\n",
    "    if age<0 or age==0:\n",
    "        raise ValueError(\"age cannot be negative\")\n",
    "    else:\n",
    "        print(age)\n",
    "        \n",
    "try:\n",
    "    age = -34\n",
    "    agecheck(age)\n",
    "except ValueError as e:\n",
    "    print(e)\n",
    "    "
   ]
  },
  {
   "cell_type": "code",
   "execution_count": 30,
   "id": "e737f123-10c0-4173-b051-7804f7ba8867",
   "metadata": {},
   "outputs": [
    {
     "name": "stdout",
     "output_type": "stream",
     "text": [
      "Age cannot be negative\n"
     ]
    }
   ],
   "source": [
    "#Q6 \n",
    "class Validateage(Exception):\n",
    "    def __init__(self,msg):\n",
    "        self.msg = msg\n",
    "\n",
    "def checkage(age):\n",
    "    if age<0 or age==0:\n",
    "        raise Validateage(\"Age cannot be negative\")\n",
    "    else:\n",
    "        print(age)\n",
    "        \n",
    "try:\n",
    "    checkage(-18)\n",
    "except Validateage as e:\n",
    "    print(e)"
   ]
  },
  {
   "cell_type": "code",
   "execution_count": null,
   "id": "e62615fa-665f-4043-a154-75ada800e975",
   "metadata": {},
   "outputs": [],
   "source": []
  }
 ],
 "metadata": {
  "kernelspec": {
   "display_name": "Python 3 (ipykernel)",
   "language": "python",
   "name": "python3"
  },
  "language_info": {
   "codemirror_mode": {
    "name": "ipython",
    "version": 3
   },
   "file_extension": ".py",
   "mimetype": "text/x-python",
   "name": "python",
   "nbconvert_exporter": "python",
   "pygments_lexer": "ipython3",
   "version": "3.10.8"
  }
 },
 "nbformat": 4,
 "nbformat_minor": 5
}
